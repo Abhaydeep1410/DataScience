{
 "cells": [
  {
   "cell_type": "markdown",
   "id": "676f8b53",
   "metadata": {},
   "source": [
    " ### scraping data from website"
   ]
  },
  {
   "cell_type": "code",
   "execution_count": 3,
   "id": "46509d02",
   "metadata": {},
   "outputs": [],
   "source": [
    "import requests\n",
    "from bs4 import BeautifulSoup as soup"
   ]
  },
  {
   "cell_type": "code",
   "execution_count": 84,
   "id": "527e592a",
   "metadata": {},
   "outputs": [],
   "source": [
    "url='https://womansday.com/life/g2078/short-inspirational-quotes/'\n",
    "response=requests.get(url)\n"
   ]
  },
  {
   "cell_type": "code",
   "execution_count": 116,
   "id": "6f27b12a",
   "metadata": {},
   "outputs": [
    {
     "data": {
      "text/plain": [
       "<Response [200]>"
      ]
     },
     "execution_count": 116,
     "metadata": {},
     "output_type": "execute_result"
    }
   ],
   "source": [
    "response"
   ]
  },
  {
   "cell_type": "code",
   "execution_count": 117,
   "id": "c3bc4307",
   "metadata": {},
   "outputs": [],
   "source": [
    "data=soup(response.content,'html.parser')"
   ]
  },
  {
   "cell_type": "code",
   "execution_count": null,
   "id": "2858b7e1",
   "metadata": {},
   "outputs": [],
   "source": []
  },
  {
   "cell_type": "code",
   "execution_count": 150,
   "id": "c5b3e4e0",
   "metadata": {
    "scrolled": true
   },
   "outputs": [],
   "source": [
    "dataol=data.findAll('ol',{'class':'css-1rk79nl et3p2gv0'})\n",
    "data_quotes=dataol[0].findAll('li')"
   ]
  },
  {
   "cell_type": "code",
   "execution_count": 148,
   "id": "74101dc0",
   "metadata": {},
   "outputs": [
    {
     "data": {
      "text/plain": [
       "'\"Life is 10% what happens to you and 90% how you react to it.\" — Charles R. Swindoll'"
      ]
     },
     "execution_count": 148,
     "metadata": {},
     "output_type": "execute_result"
    }
   ],
   "source": [
    "data_quotes[0].text"
   ]
  },
  {
   "cell_type": "code",
   "execution_count": 120,
   "id": "91965fb3",
   "metadata": {},
   "outputs": [
    {
     "data": {
      "text/plain": [
       "'\"Life is 10% what happens to you and 90% how you react to it.\" — Charles R. Swindoll'"
      ]
     },
     "execution_count": 120,
     "metadata": {},
     "output_type": "execute_result"
    }
   ],
   "source": [
    "data_quotes[0].text"
   ]
  },
  {
   "cell_type": "code",
   "execution_count": 146,
   "id": "51d8e4d0",
   "metadata": {},
   "outputs": [],
   "source": [
    "with open('quotes.txt', 'w')  as file:\n",
    "        for i,dat in enumerate(data_quotes):\n",
    "\n",
    "                                file.write(str(i)+' : '+dat.text+'\\n')\n",
    "\n",
    "        \n"
   ]
  },
  {
   "cell_type": "code",
   "execution_count": 176,
   "id": "4ec574dc",
   "metadata": {},
   "outputs": [],
   "source": [
    "with open('quotes.txt', 'w')  as file:\n",
    "    count=0\n",
    "    for j in range(len(dataol)):\n",
    "        data_quotes=dataol[j].findAll('li')\n",
    "        for dat in data_quotes:\n",
    "\n",
    "                                file.write(str(count)+' : '+dat.text+'\\n')\n",
    "                                count=count+1\n",
    "\n",
    "        \n"
   ]
  },
  {
   "cell_type": "code",
   "execution_count": null,
   "id": "7bee43ab",
   "metadata": {},
   "outputs": [],
   "source": []
  },
  {
   "cell_type": "code",
   "execution_count": null,
   "id": "5f9ac87b",
   "metadata": {},
   "outputs": [],
   "source": []
  },
  {
   "cell_type": "markdown",
   "id": "4ba146a2",
   "metadata": {},
   "source": [
    "### getting pictures from shopping website\n"
   ]
  },
  {
   "cell_type": "code",
   "execution_count": 195,
   "id": "86b825e1",
   "metadata": {},
   "outputs": [
    {
     "data": {
      "text/plain": [
       "<Response [200]>"
      ]
     },
     "execution_count": 195,
     "metadata": {},
     "output_type": "execute_result"
    }
   ],
   "source": [
    "a='mobile'\n",
    "url='https://www.flipkart.com/search?q='+a\n",
    "response=requests.get(url)\n",
    "response"
   ]
  },
  {
   "cell_type": "code",
   "execution_count": 196,
   "id": "55ff627c",
   "metadata": {},
   "outputs": [],
   "source": [
    "data=soup(response.content,'html.parser')\n",
    "dataimg=data.findAll('img',{'class':'_396cs4'})\n"
   ]
  },
  {
   "cell_type": "code",
   "execution_count": 197,
   "id": "08d9a7b2",
   "metadata": {
    "scrolled": true
   },
   "outputs": [
    {
     "data": {
      "text/plain": [
       "'https://rukminim1.flixcart.com/image/312/312/xif0q/mobile/c/p/q/e3-e3-cellecor-original-imaggkpxppfhzbh7.jpeg?q=70'"
      ]
     },
     "execution_count": 197,
     "metadata": {},
     "output_type": "execute_result"
    }
   ],
   "source": [
    "dataimg[0].attrs['src']"
   ]
  },
  {
   "cell_type": "code",
   "execution_count": null,
   "id": "f345c8f1",
   "metadata": {},
   "outputs": [],
   "source": []
  },
  {
   "cell_type": "code",
   "execution_count": 206,
   "id": "649fb95a",
   "metadata": {},
   "outputs": [],
   "source": [
    "for i,dat in enumerate(dataimg):\n",
    "    \n",
    "        if(i<=6):\n",
    "            with open(a+str(i)+'.jpg','wb') as file:\n",
    "                    imgurl=dat.attrs['src']\n",
    "                    response=requests.get(imgurl)\n",
    "                    file.write(response.content)\n",
    "        else:\n",
    "            break"
   ]
  },
  {
   "cell_type": "code",
   "execution_count": null,
   "id": "9310449d",
   "metadata": {},
   "outputs": [],
   "source": []
  }
 ],
 "metadata": {
  "kernelspec": {
   "display_name": "Python 3 (ipykernel)",
   "language": "python",
   "name": "python3"
  },
  "language_info": {
   "codemirror_mode": {
    "name": "ipython",
    "version": 3
   },
   "file_extension": ".py",
   "mimetype": "text/x-python",
   "name": "python",
   "nbconvert_exporter": "python",
   "pygments_lexer": "ipython3",
   "version": "3.9.7"
  }
 },
 "nbformat": 4,
 "nbformat_minor": 5
}
