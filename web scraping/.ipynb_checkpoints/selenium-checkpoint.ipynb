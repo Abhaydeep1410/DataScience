{
 "cells": [
  {
   "cell_type": "markdown",
   "id": "6bba36a3",
   "metadata": {},
   "source": [
    "## selenium"
   ]
  },
  {
   "cell_type": "markdown",
   "id": "a2ef62f9",
   "metadata": {},
   "source": [
    "for webautomation and testing"
   ]
  },
  {
   "cell_type": "markdown",
   "id": "affc6884",
   "metadata": {},
   "source": [
    "task: automatically submit the code on codechef and sumbit it"
   ]
  },
  {
   "cell_type": "code",
   "execution_count": 9,
   "id": "0ddd4da1",
   "metadata": {},
   "outputs": [],
   "source": [
    "# pip install selenium\n"
   ]
  },
  {
   "cell_type": "code",
   "execution_count": 10,
   "id": "5123066d",
   "metadata": {},
   "outputs": [],
   "source": [
    "from selenium import webdriver\n",
    "from selenium.webdriver.chrome.service import Service\n",
    "from selenium.webdriver.common.by import By\n",
    "s=Service('/Users/abhaydeep/Downloads/chromedriverr')\n",
    "driver=webdriver.Chrome(service=s)\n",
    "\n"
   ]
  },
  {
   "cell_type": "code",
   "execution_count": null,
   "id": "62bb6e78",
   "metadata": {},
   "outputs": [],
   "source": [
    "driver.get('https://www.codechef.com/login?destination=/')\n",
    "\n"
   ]
  },
  {
   "cell_type": "code",
   "execution_count": null,
   "id": "adf33fd9",
   "metadata": {},
   "outputs": [],
   "source": []
  },
  {
   "cell_type": "code",
   "execution_count": null,
   "id": "b1e786e8",
   "metadata": {},
   "outputs": [],
   "source": [
    "## inspect and then left click on attribute and click copy and copy the full xpath"
   ]
  },
  {
   "cell_type": "code",
   "execution_count": null,
   "id": "2870a110",
   "metadata": {},
   "outputs": [],
   "source": [
    "username=driver.find_element(By.XPATH,'/html/body/section/div[2]/div/div[3]/div[2]/form/div/div[1]/div/div/input')"
   ]
  },
  {
   "cell_type": "code",
   "execution_count": null,
   "id": "1f8b8fde",
   "metadata": {},
   "outputs": [],
   "source": [
    "username.send_keys('ad_1001')"
   ]
  },
  {
   "cell_type": "code",
   "execution_count": null,
   "id": "d3758826",
   "metadata": {},
   "outputs": [],
   "source": [
    "from getpass import getpass\n",
    "\n",
    "password=driver.find_element(By.XPATH,'/html/body/section/div[2]/div/div[3]/div[2]/form/div/div[2]/div/div[2]/input').send_keys(getpass(\"enter password\"))\n"
   ]
  },
  {
   "cell_type": "code",
   "execution_count": null,
   "id": "5d0c9a5a",
   "metadata": {},
   "outputs": [],
   "source": [
    "loginButton=driver.find_element(By.XPATH,'/html/body/section/div[2]/div/div[3]/div[2]/form/div/div[3]/input').click()\n"
   ]
  },
  {
   "cell_type": "code",
   "execution_count": null,
   "id": "eaa946df",
   "metadata": {},
   "outputs": [],
   "source": [
    "driver.get('https://www.codechef.com/submit/TEST')\n",
    "\n",
    "\n"
   ]
  },
  {
   "cell_type": "code",
   "execution_count": null,
   "id": "f1697b6a",
   "metadata": {
    "scrolled": true
   },
   "outputs": [],
   "source": [
    "## inspect and find input tag and copy xpath (only upload if it is input tag)\n",
    "\n",
    "file=driver.find_element(By.XPATH,'/html/body/div[1]/div/div[1]/div/div/div[2]/div/div[3]/div/div/div[2]/div[3]/div[2]/div[1]/input')\n"
   ]
  },
  {
   "cell_type": "code",
   "execution_count": null,
   "id": "48777fed",
   "metadata": {},
   "outputs": [],
   "source": [
    "file.send_keys('/Users/abhaydeep/Downloads/upload.c')"
   ]
  },
  {
   "cell_type": "code",
   "execution_count": null,
   "id": "83e72c4a",
   "metadata": {},
   "outputs": [],
   "source": [
    "compile_and_run=driver.find_element(By.XPATH,'/html/body/div[1]/div/div[1]/div/div/div[2]/div/div[3]/div/div/div[2]/div[3]/div[2]/div[2]/div/button[1]')\n",
    "compile_and_run.click()"
   ]
  }
 ],
 "metadata": {
  "kernelspec": {
   "display_name": "Python 3 (ipykernel)",
   "language": "python",
   "name": "python3"
  },
  "language_info": {
   "codemirror_mode": {
    "name": "ipython",
    "version": 3
   },
   "file_extension": ".py",
   "mimetype": "text/x-python",
   "name": "python",
   "nbconvert_exporter": "python",
   "pygments_lexer": "ipython3",
   "version": "3.9.7"
  }
 },
 "nbformat": 4,
 "nbformat_minor": 5
}
