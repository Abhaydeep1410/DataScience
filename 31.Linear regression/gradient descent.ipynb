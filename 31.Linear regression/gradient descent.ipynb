{
 "cells": [
  {
   "cell_type": "code",
   "execution_count": 1,
   "id": "b8b46800",
   "metadata": {},
   "outputs": [],
   "source": [
    "import pandas as pd\n",
    "import matplotlib.pyplot as plt\n",
    "import numpy as np"
   ]
  },
  {
   "cell_type": "code",
   "execution_count": null,
   "id": "d0267545",
   "metadata": {},
   "outputs": [],
   "source": []
  },
  {
   "cell_type": "code",
   "execution_count": 2,
   "id": "3b161eaa",
   "metadata": {},
   "outputs": [],
   "source": [
    "X=pd.read_csv('Training Data/Linear_X_Train.csv')\n",
    "Y=pd.read_csv('Training Data/Linear_Y_Train.csv')"
   ]
  },
  {
   "cell_type": "code",
   "execution_count": 7,
   "id": "046374cb",
   "metadata": {},
   "outputs": [
    {
     "data": {
      "text/html": [
       "<div>\n",
       "<style scoped>\n",
       "    .dataframe tbody tr th:only-of-type {\n",
       "        vertical-align: middle;\n",
       "    }\n",
       "\n",
       "    .dataframe tbody tr th {\n",
       "        vertical-align: top;\n",
       "    }\n",
       "\n",
       "    .dataframe thead th {\n",
       "        text-align: right;\n",
       "    }\n",
       "</style>\n",
       "<table border=\"1\" class=\"dataframe\">\n",
       "  <thead>\n",
       "    <tr style=\"text-align: right;\">\n",
       "      <th></th>\n",
       "      <th>x</th>\n",
       "    </tr>\n",
       "  </thead>\n",
       "  <tbody>\n",
       "    <tr>\n",
       "      <th>count</th>\n",
       "      <td>3750.000000</td>\n",
       "    </tr>\n",
       "    <tr>\n",
       "      <th>mean</th>\n",
       "      <td>-0.037795</td>\n",
       "    </tr>\n",
       "    <tr>\n",
       "      <th>std</th>\n",
       "      <td>0.992212</td>\n",
       "    </tr>\n",
       "    <tr>\n",
       "      <th>min</th>\n",
       "      <td>-3.546299</td>\n",
       "    </tr>\n",
       "    <tr>\n",
       "      <th>25%</th>\n",
       "      <td>-0.698443</td>\n",
       "    </tr>\n",
       "    <tr>\n",
       "      <th>50%</th>\n",
       "      <td>-0.035028</td>\n",
       "    </tr>\n",
       "    <tr>\n",
       "      <th>75%</th>\n",
       "      <td>0.629425</td>\n",
       "    </tr>\n",
       "    <tr>\n",
       "      <th>max</th>\n",
       "      <td>4.091393</td>\n",
       "    </tr>\n",
       "  </tbody>\n",
       "</table>\n",
       "</div>"
      ],
      "text/plain": [
       "                 x\n",
       "count  3750.000000\n",
       "mean     -0.037795\n",
       "std       0.992212\n",
       "min      -3.546299\n",
       "25%      -0.698443\n",
       "50%      -0.035028\n",
       "75%       0.629425\n",
       "max       4.091393"
      ]
     },
     "execution_count": 7,
     "metadata": {},
     "output_type": "execute_result"
    }
   ],
   "source": [
    "pd.DataFrame(X).describe()"
   ]
  },
  {
   "cell_type": "code",
   "execution_count": 3,
   "id": "6ea1b7b9",
   "metadata": {},
   "outputs": [],
   "source": [
    "\n",
    "# converting to numpy array \n",
    "x=X.values\n",
    "y=Y.values"
   ]
  },
  {
   "cell_type": "code",
   "execution_count": 6,
   "id": "9f8a9589",
   "metadata": {},
   "outputs": [
    {
     "ename": "AttributeError",
     "evalue": "'numpy.ndarray' object has no attribute 'desribe'",
     "output_type": "error",
     "traceback": [
      "\u001b[0;31m---------------------------------------------------------------------------\u001b[0m",
      "\u001b[0;31mAttributeError\u001b[0m                            Traceback (most recent call last)",
      "\u001b[0;32m/var/folders/8y/dyv9d249457dgpy4rthcwx780000gn/T/ipykernel_22512/718936459.py\u001b[0m in \u001b[0;36m<module>\u001b[0;34m\u001b[0m\n\u001b[0;32m----> 1\u001b[0;31m \u001b[0mx\u001b[0m\u001b[0;34m.\u001b[0m\u001b[0mdesribe\u001b[0m\u001b[0;34m(\u001b[0m\u001b[0;34m)\u001b[0m\u001b[0;34m\u001b[0m\u001b[0;34m\u001b[0m\u001b[0m\n\u001b[0m",
      "\u001b[0;31mAttributeError\u001b[0m: 'numpy.ndarray' object has no attribute 'desribe'"
     ]
    }
   ],
   "source": []
  },
  {
   "cell_type": "code",
   "execution_count": 4,
   "id": "45ec13a5",
   "metadata": {},
   "outputs": [],
   "source": [
    "# for normalization  \n",
    "u=x.mean()\n",
    "std=x.std()\n",
    "x=(x-u)/std"
   ]
  },
  {
   "cell_type": "code",
   "execution_count": 5,
   "id": "79feca9c",
   "metadata": {
    "scrolled": true
   },
   "outputs": [
    {
     "data": {
      "image/png": "[encoded data removed]",
      "text/plain": [
       "<Figure size 432x288 with 1 Axes>"
      ]
     },
     "metadata": {
      "needs_background": "light"
     },
     "output_type": "display_data"
    }
   ],
   "source": [
    "plt.title('harword vs performance')\n",
    "plt.style.use('seaborn')\n",
    "plt.xlabel('hardword')\n",
    "plt.ylabel('performance')\n",
    "plt.scatter(x,y)\n",
    "plt.show()"
   ]
  },
  {
   "cell_type": "code",
   "execution_count": null,
   "id": "88bc5792",
   "metadata": {},
   "outputs": [],
   "source": []
  },
  {
   "cell_type": "code",
   "execution_count": null,
   "id": "66cf3a71",
   "metadata": {},
   "outputs": [],
   "source": []
  },
  {
   "cell_type": "code",
   "execution_count": null,
   "id": "d194abd2",
   "metadata": {},
   "outputs": [],
   "source": []
  },
  {
   "cell_type": "markdown",
   "id": "f8cdf73c",
   "metadata": {},
   "source": [
    "### linear Regression"
   ]
  },
  {
   "cell_type": "code",
   "execution_count": 57,
   "id": "da8ea248",
   "metadata": {},
   "outputs": [],
   "source": [
    "def hypothesis(X,theta):\n",
    "    y_=theta[0]+theta[1]*X;\n",
    "    return y_\n",
    "\n",
    "\n",
    "def gradient(X,Y,theta):\n",
    "    \n",
    "    m=X.shape[0]\n",
    "    grad=np.zeros((2,))\n",
    "    for i in range(m):\n",
    "        x=X[i]\n",
    "        y=Y[i]\n",
    "        y_=hypothesis(x,theta)\n",
    "        \n",
    "        \n",
    "        grad[0]+=(y_-y)\n",
    "        grad[1]+=(y_-y)*x\n",
    "    return grad/m\n",
    "    \n",
    "def error(X,Y,theta):    \n",
    "    totalerror=0.0\n",
    "    m=X.shape[0]\n",
    "    for i in range(X.shape[0]):\n",
    "        y_=hypothesis(X[i],theta)\n",
    "        totalerror+= (Y[i]-y_)**2\n",
    "    return totalerror/m\n",
    "    \n",
    "    \n",
    "    \n",
    "def gradientDescent(X,Y,learningRate=0.1,maxipos=50):\n",
    "    theta=np.zeros((2,))\n",
    "    error_list=[]\n",
    "    theta_list=[]\n",
    "    for i in range (maxipos):\n",
    "        grad=gradient(X,Y,theta)\n",
    "        e=error(X,Y,theta)\n",
    "        error_list.append(e)\n",
    "        theta_list.append((theta[0],theta[1]))\n",
    "        theta[0]=theta[0]-learningRate*grad[0]\n",
    "        theta[1]=theta[1]-learningRate*grad[1]\n",
    "        \n",
    "        \n",
    "    return error_list,theta,theta_list\n",
    "\n",
    "\n",
    "    \n",
    "        \n",
    "    "
   ]
  },
  {
   "cell_type": "code",
   "execution_count": 58,
   "id": "2c77bb46",
   "metadata": {},
   "outputs": [],
   "source": [
    "error_list,theta,theta_list=gradientDescent(x,y)"
   ]
  },
  {
   "cell_type": "code",
   "execution_count": 61,
   "id": "60054221",
   "metadata": {},
   "outputs": [
    {
     "data": {
      "text/plain": [
       "array([ 0.68034446, 79.49392074])"
      ]
     },
     "execution_count": 61,
     "metadata": {},
     "output_type": "execute_result"
    }
   ],
   "source": [
    "theta"
   ]
  },
  {
   "cell_type": "code",
   "execution_count": 59,
   "id": "0644cdc5",
   "metadata": {},
   "outputs": [
    {
     "data": {
      "text/plain": [
       "[(0.0, 0.0),\n",
       " (0.06838689680155917, 7.990573694249979),\n",
       " (0.12993510392296193, 15.182090019074964),\n",
       " (0.18532849033222448, 21.654454711417454),\n",
       " (0.23518253810056094, 27.479582934525695),\n",
       " (0.2800511810920642, 32.72219833532309),\n",
       " (0.3204329597844163, 37.44055219604077),\n",
       " (0.3567765606075334, 41.68707067068668),\n",
       " (0.3894858013483389, 45.508937297867995),\n",
       " (0.41892411801506385, 48.94861726233117),\n",
       " (0.44541860301511615, 52.044329230348026),\n",
       " (0.4692636395151634, 54.83047000156319),\n",
       " (0.49072417236520605, 57.337996695656855),\n",
       " (0.5100386519302442, 59.594770720341145),\n",
       " (0.5274216835387785, 61.62586734255701),\n",
       " (0.5430664119864594, 63.45385430255129),\n",
       " (0.5571466675893723, 65.09904256654615),\n",
       " (0.5698188976319938, 66.57971200414151),\n",
       " (0.5812239046703533, 67.91231449797735),\n",
       " (0.5914884110048769, 69.11165674242959),\n",
       " (0.600726466705948, 70.19106476243661),\n",
       " (0.6090407168369121, 71.16253198044294),\n",
       " (0.6165235419547794, 72.03685247664862),\n",
       " (0.6232580845608604, 72.82374092323374),\n",
       " (0.6293191729063332, 73.53194052516035),\n",
       " (0.6347741524172589, 74.1693201668943),\n",
       " (0.6396836339770917, 74.74296184445484),\n",
       " (0.6441021673809416, 75.25923935425934),\n",
       " (0.6480788474444065, 75.72388911308337),\n",
       " (0.6516578595015247, 76.14207389602501),\n",
       " (0.6548789703529311, 76.51844020067249),\n",
       " (0.6577779701191968, 76.85716987485522),\n",
       " (0.6603870699088359, 77.16202658161967),\n",
       " (0.6627352597195112, 77.43639761770768),\n",
       " (0.6648486305491188, 77.68333155018689),\n",
       " (0.6667506642957657, 77.90557208941819),\n",
       " (0.6684624946677481, 78.10558857472634),\n",
       " (0.670003142002532, 78.28560341150369),\n",
       " (0.6713897246038375, 78.4476167646033),\n",
       " (0.6726376489450125, 78.59342878239295),\n",
       " (0.6737607808520703, 78.72465959840363),\n",
       " (0.6747715995684224, 78.84276733281325),\n",
       " (0.675681336413139, 78.9490642937819),\n",
       " (0.6765000995733841, 79.0447315586537),\n",
       " (0.6772369864176044, 79.13083209703831),\n",
       " (0.6779001845774028, 79.20832258158445),\n",
       " (0.6784970629212216, 79.27806401767599),\n",
       " (0.6790342534306582, 79.34083131015836),\n",
       " (0.6795177248891511, 79.3973218733925),\n",
       " (0.6799528492017949, 79.44816338030323)]"
      ]
     },
     "execution_count": 59,
     "metadata": {},
     "output_type": "execute_result"
    }
   ],
   "source": [
    "theta_list"
   ]
  },
  {
   "cell_type": "code",
   "execution_count": 60,
   "id": "65f8b927",
   "metadata": {},
   "outputs": [
    {
     "data": {
      "text/plain": [
       "[<matplotlib.lines.Line2D at 0x7f8bdbf6b910>]"
      ]
     },
     "execution_count": 60,
     "metadata": {},
     "output_type": "execute_result"
    },
    {
     "data": {
      "image/png": "[encoded data removed]",
      "text/plain": [
       "<Figure size 576x396 with 1 Axes>"
      ]
     },
     "metadata": {},
     "output_type": "display_data"
    }
   ],
   "source": [
    "plt.plot(error_list)"
   ]
  },
  {
   "cell_type": "code",
   "execution_count": null,
   "id": "9e96b2c6",
   "metadata": {},
   "outputs": [],
   "source": []
  },
  {
   "cell_type": "markdown",
   "id": "a00f935a",
   "metadata": {},
   "source": [
    "### predictions and best line"
   ]
  },
  {
   "cell_type": "code",
   "execution_count": 63,
   "id": "87b589f2",
   "metadata": {},
   "outputs": [],
   "source": [
    "y_=hypothesis(x,theta)\n",
    "# due to typecassting it gives numpy array"
   ]
  },
  {
   "cell_type": "code",
   "execution_count": 64,
   "id": "8c817846",
   "metadata": {},
   "outputs": [
    {
     "data": {
      "text/plain": [
       "array([[-19.47300242],\n",
       "       [-43.47167405],\n",
       "       [ 86.04143787],\n",
       "       ...,\n",
       "       [-20.74353955],\n",
       "       [137.99079963],\n",
       "       [-35.69500857]])"
      ]
     },
     "execution_count": 64,
     "metadata": {},
     "output_type": "execute_result"
    }
   ],
   "source": [
    "y_"
   ]
  },
  {
   "cell_type": "code",
   "execution_count": 70,
   "id": "9a1136db",
   "metadata": {
    "scrolled": true
   },
   "outputs": [
    {
     "data": {
      "text/plain": [
       "<matplotlib.legend.Legend at 0x7f8bdf80d6d0>"
      ]
     },
     "execution_count": 70,
     "metadata": {},
     "output_type": "execute_result"
    },
    {
     "data": {
      "image/png": "[encoded data removed]",
      "text/plain": [
       "<Figure size 576x396 with 1 Axes>"
      ]
     },
     "metadata": {},
     "output_type": "display_data"
    }
   ],
   "source": [
    "# on training data\n",
    "plt.scatter(x,y)\n",
    "plt.plot(X,y_,color=\"red\",label=\"predictions\")\n",
    "plt.legend()\n"
   ]
  },
  {
   "cell_type": "code",
   "execution_count": null,
   "id": "acde708b",
   "metadata": {},
   "outputs": [],
   "source": []
  },
  {
   "cell_type": "code",
   "execution_count": 75,
   "id": "ff2514c0",
   "metadata": {},
   "outputs": [],
   "source": [
    "# on testing data\n",
    "x_test=pd.read_csv(\"Test Cases/Linear_X_Test.csv\")\n",
    "x_test=x_test.values"
   ]
  },
  {
   "cell_type": "code",
   "execution_count": 76,
   "id": "81fe898d",
   "metadata": {},
   "outputs": [],
   "source": [
    "ytest_=hypothesis(x_test,theta)\n"
   ]
  },
  {
   "cell_type": "code",
   "execution_count": 81,
   "id": "22233546",
   "metadata": {},
   "outputs": [],
   "source": [
    "\n",
    "df=pd.DataFrame(data=ytest_,columns=[\"y\"])"
   ]
  },
  {
   "cell_type": "code",
   "execution_count": 84,
   "id": "6669b17a",
   "metadata": {},
   "outputs": [],
   "source": [
    "df.to_csv('y_testprediction.csv',index=False)"
   ]
  },
  {
   "cell_type": "code",
   "execution_count": null,
   "id": "d769ba9e",
   "metadata": {},
   "outputs": [],
   "source": []
  },
  {
   "cell_type": "markdown",
   "id": "bf135103",
   "metadata": {},
   "source": [
    "## section 3- computing the score"
   ]
  },
  {
   "cell_type": "markdown",
   "id": "c22c42ee",
   "metadata": {},
   "source": [
    "r2 or r squared or coefficient of determination"
   ]
  },
  {
   "cell_type": "code",
   "execution_count": null,
   "id": "8c703bb7",
   "metadata": {},
   "outputs": [],
   "source": []
  },
  {
   "cell_type": "code",
   "execution_count": 86,
   "id": "2a1c055e",
   "metadata": {},
   "outputs": [],
   "source": [
    "def r2score(Y,Y_):\n",
    "    num=np.sum((Y-Y_)**2)\n",
    "    den=np.sum((Y-Y.mean())**2)\n",
    "    \n",
    "    score=1-(num/den)\n",
    "    return score*100"
   ]
  },
  {
   "cell_type": "code",
   "execution_count": 87,
   "id": "613d0bbe",
   "metadata": {},
   "outputs": [
    {
     "data": {
      "text/plain": [
       "97.09354314048299"
      ]
     },
     "execution_count": 87,
     "metadata": {},
     "output_type": "execute_result"
    }
   ],
   "source": [
    "r2score(y,y_)"
   ]
  }
 ],
 "metadata": {
  "kernelspec": {
   "display_name": "Python 3 (ipykernel)",
   "language": "python",
   "name": "python3"
  },
  "language_info": {
   "codemirror_mode": {
    "name": "ipython",
    "version": 3
   },
   "file_extension": ".py",
   "mimetype": "text/x-python",
   "name": "python",
   "nbconvert_exporter": "python",
   "pygments_lexer": "ipython3",
   "version": "3.9.7"
  }
 },
 "nbformat": 4,
 "nbformat_minor": 5
}
