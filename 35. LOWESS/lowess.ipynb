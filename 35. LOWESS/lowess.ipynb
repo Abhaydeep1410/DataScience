{
 "cells": [
  {
   "cell_type": "markdown",
   "id": "0398ae7d",
   "metadata": {},
   "source": [
    "## Locally weighted regression\n",
    "1. read and normalize the data\n",
    "2. generate w for every point\n",
    "3. no training required , generate prediction directly using closed form solution theta=(x'wx)inv * x'wy\n",
    "4. find the best value of tau (bandwidth parameter)[cross validation]\n"
   ]
  },
  {
   "cell_type": "code",
   "execution_count": 3,
   "id": "26049049",
   "metadata": {},
   "outputs": [],
   "source": [
    "import numpy as np\n",
    "import pandas as pd\n",
    "import matplotlib.pyplot as plt\n",
    "from sklearn.datasets import make_regression\n",
    "%matplotlib inline"
   ]
  },
  {
   "cell_type": "code",
   "execution_count": 4,
   "id": "ce3da1ff",
   "metadata": {},
   "outputs": [],
   "source": [
    "dfx=pd.read_csv(\"weightedX.csv\")\n",
    "dfy=pd.read_csv(\"weightedY.csv\")"
   ]
  },
  {
   "cell_type": "code",
   "execution_count": 5,
   "id": "da1447f7",
   "metadata": {},
   "outputs": [],
   "source": [
    "x=dfx.values\n",
    "y=dfy.values"
   ]
  },
  {
   "cell_type": "code",
   "execution_count": 6,
   "id": "b94820ca",
   "metadata": {},
   "outputs": [
    {
     "data": {
      "text/plain": [
       "((99, 1), (99, 1))"
      ]
     },
     "execution_count": 6,
     "metadata": {},
     "output_type": "execute_result"
    }
   ],
   "source": [
    "x.shape,y.shape"
   ]
  },
  {
   "cell_type": "code",
   "execution_count": null,
   "id": "5e4d81f2",
   "metadata": {},
   "outputs": [],
   "source": []
  },
  {
   "cell_type": "code",
   "execution_count": 7,
   "id": "8829038f",
   "metadata": {},
   "outputs": [
    {
     "data": {
      "image/png": "[encoded data removed]",
      "text/plain": [
       "<Figure size 432x288 with 1 Axes>"
      ]
     },
     "metadata": {
      "needs_background": "light"
     },
     "output_type": "display_data"
    }
   ],
   "source": [
    "# normalize the data\n",
    "x=(x-x.mean())/x.std()\n",
    "plt.scatter(x,y)\n",
    "plt.show()"
   ]
  },
  {
   "cell_type": "code",
   "execution_count": 8,
   "id": "bd2bb4a0",
   "metadata": {},
   "outputs": [
    {
     "data": {
      "text/plain": [
       "matrix([[1., 0., 0., 0., 0.],\n",
       "        [0., 1., 0., 0., 0.],\n",
       "        [0., 0., 1., 0., 0.],\n",
       "        [0., 0., 0., 1., 0.],\n",
       "        [0., 0., 0., 0., 1.]])"
      ]
     },
     "execution_count": 8,
     "metadata": {},
     "output_type": "execute_result"
    }
   ],
   "source": [
    "np.mat(np.eye(5))\n",
    "## converting to matrix so that a*b do matrix multiplication not array mul"
   ]
  },
  {
   "cell_type": "code",
   "execution_count": 9,
   "id": "8b0307fe",
   "metadata": {},
   "outputs": [],
   "source": [
    "def getw(query_point,x,tau):\n",
    "    m=x.shape[0]\n",
    "    w=np.mat(np.eye(m))\n",
    "    for i in range(m):\n",
    "        w[i,i]=np.exp(np.dot((x[i]-query_point),(x[i]-query_point).T)/(-2*tau*tau))\n",
    "    return w"
   ]
  },
  {
   "cell_type": "code",
   "execution_count": 10,
   "id": "2f296164",
   "metadata": {},
   "outputs": [],
   "source": [
    "x=np.mat(x)\n",
    "y=np.mat(y)\n",
    "\n",
    "w=getw(-1,x,-1)"
   ]
  },
  {
   "cell_type": "code",
   "execution_count": 11,
   "id": "75051533",
   "metadata": {},
   "outputs": [
    {
     "name": "stdout",
     "output_type": "stream",
     "text": [
      "[[0.81327022 0.         0.         ... 0.         0.         0.        ]\n",
      " [0.         0.98353311 0.         ... 0.         0.         0.        ]\n",
      " [0.         0.         0.81193405 ... 0.         0.         0.        ]\n",
      " ...\n",
      " [0.         0.         0.         ... 0.59936711 0.         0.        ]\n",
      " [0.         0.         0.         ... 0.         0.2758226  0.        ]\n",
      " [0.         0.         0.         ... 0.         0.         0.08496804]]\n"
     ]
    }
   ],
   "source": [
    "print(w)"
   ]
  },
  {
   "cell_type": "code",
   "execution_count": null,
   "id": "0108e449",
   "metadata": {},
   "outputs": [],
   "source": []
  },
  {
   "cell_type": "code",
   "execution_count": null,
   "id": "6ea559fd",
   "metadata": {},
   "outputs": [],
   "source": []
  },
  {
   "cell_type": "markdown",
   "id": "12d3fed3",
   "metadata": {},
   "source": [
    "## make predictions"
   ]
  },
  {
   "cell_type": "code",
   "execution_count": 12,
   "id": "214f11f0",
   "metadata": {},
   "outputs": [],
   "source": [
    "def predict(x,y,query_x,tau):\n",
    "    m=x.shape[0]\n",
    "    # making a dummy 1 column to match with features\n",
    "    ones =np.ones((m,1))\n",
    "    x_=np.hstack((x,ones))\n",
    "    \n",
    "    qx=np.mat([query_x,1])\n",
    "    w=getw(qx,x_,tau)\n",
    "    \n",
    "#    theta=(x'wx)inv * x'wy\n",
    "    theta=np.linalg.pinv(x_.T*(w*x_))*(x_.T*(w*y))\n",
    "    pred=np.dot(qx,theta)\n",
    "    return theta,pred"
   ]
  },
  {
   "cell_type": "code",
   "execution_count": 13,
   "id": "66e75042",
   "metadata": {},
   "outputs": [],
   "source": [
    "theta,pred=predict(x,y,1.0,1.0)"
   ]
  },
  {
   "cell_type": "code",
   "execution_count": 14,
   "id": "2d82a675",
   "metadata": {
    "scrolled": true
   },
   "outputs": [
    {
     "data": {
      "text/plain": [
       "matrix([[1.59417694]])"
      ]
     },
     "execution_count": 14,
     "metadata": {},
     "output_type": "execute_result"
    }
   ],
   "source": [
    "pred # means for query point close to one pred value is 1.59"
   ]
  },
  {
   "cell_type": "code",
   "execution_count": null,
   "id": "93a4d3d6",
   "metadata": {},
   "outputs": [],
   "source": []
  },
  {
   "cell_type": "code",
   "execution_count": null,
   "id": "284eaac8",
   "metadata": {},
   "outputs": [],
   "source": []
  },
  {
   "cell_type": "markdown",
   "id": "2c81ebc8",
   "metadata": {},
   "source": [
    "## visual prediction,analysize the effect of tau\n",
    "\n"
   ]
  },
  {
   "cell_type": "code",
   "execution_count": 15,
   "id": "86fab936",
   "metadata": {},
   "outputs": [],
   "source": [
    "def plotPrediction(tau):\n",
    "    X_test = np.linspace(-2,2,20)\n",
    "    Y_test = []\n",
    "    \n",
    "    for xq in X_test:\n",
    "        theta,pred = predict(x,,xq,tau)\n",
    "        Y_test.append(pred[0][0])\n",
    "        \n",
    "    Y_test = np.array(Y_test)\n",
    "    \n",
    "    XO = np.array(X)\n",
    "    YO = np.array(Y)\n",
    "    \n",
    "    plt.title(\"Tau/Bandwidth Param %.2f\"%tau)\n",
    "    plt.scatter(XO,YO)\n",
    "    plt.scatter(X_test,Y_test,color='red')\n",
    "    plt.show()\n",
    "    \n",
    "        "
   ]
  },
  {
   "cell_type": "code",
   "execution_count": 16,
   "id": "0fa844ca",
   "metadata": {},
   "outputs": [
    {
     "ename": "NameError",
     "evalue": "name 'X' is not defined",
     "output_type": "error",
     "traceback": [
      "\u001b[0;31m---------------------------------------------------------------------------\u001b[0m",
      "\u001b[0;31mNameError\u001b[0m                                 Traceback (most recent call last)",
      "\u001b[0;32m/var/folders/8y/dyv9d249457dgpy4rthcwx780000gn/T/ipykernel_34158/3477769743.py\u001b[0m in \u001b[0;36m<module>\u001b[0;34m\u001b[0m\n\u001b[1;32m      1\u001b[0m \u001b[0mtaus\u001b[0m \u001b[0;34m=\u001b[0m \u001b[0;34m[\u001b[0m\u001b[0;36m0.1\u001b[0m\u001b[0;34m,\u001b[0m\u001b[0;36m0.5\u001b[0m\u001b[0;34m,\u001b[0m\u001b[0;36m1\u001b[0m\u001b[0;34m,\u001b[0m\u001b[0;36m5\u001b[0m\u001b[0;34m,\u001b[0m\u001b[0;36m10\u001b[0m\u001b[0;34m]\u001b[0m\u001b[0;34m\u001b[0m\u001b[0;34m\u001b[0m\u001b[0m\n\u001b[1;32m      2\u001b[0m \u001b[0;32mfor\u001b[0m \u001b[0mt\u001b[0m \u001b[0;32min\u001b[0m \u001b[0mtaus\u001b[0m\u001b[0;34m:\u001b[0m\u001b[0;34m\u001b[0m\u001b[0;34m\u001b[0m\u001b[0m\n\u001b[0;32m----> 3\u001b[0;31m     \u001b[0mplotPrediction\u001b[0m\u001b[0;34m(\u001b[0m\u001b[0mt\u001b[0m\u001b[0;34m)\u001b[0m\u001b[0;34m\u001b[0m\u001b[0;34m\u001b[0m\u001b[0m\n\u001b[0m",
      "\u001b[0;32m/var/folders/8y/dyv9d249457dgpy4rthcwx780000gn/T/ipykernel_34158/3508510373.py\u001b[0m in \u001b[0;36mplotPrediction\u001b[0;34m(tau)\u001b[0m\n\u001b[1;32m      4\u001b[0m \u001b[0;34m\u001b[0m\u001b[0m\n\u001b[1;32m      5\u001b[0m     \u001b[0;32mfor\u001b[0m \u001b[0mxq\u001b[0m \u001b[0;32min\u001b[0m \u001b[0mX_test\u001b[0m\u001b[0;34m:\u001b[0m\u001b[0;34m\u001b[0m\u001b[0;34m\u001b[0m\u001b[0m\n\u001b[0;32m----> 6\u001b[0;31m         \u001b[0mtheta\u001b[0m\u001b[0;34m,\u001b[0m\u001b[0mpred\u001b[0m \u001b[0;34m=\u001b[0m \u001b[0mpredict\u001b[0m\u001b[0;34m(\u001b[0m\u001b[0mX\u001b[0m\u001b[0;34m,\u001b[0m\u001b[0mY\u001b[0m\u001b[0;34m,\u001b[0m\u001b[0mxq\u001b[0m\u001b[0;34m,\u001b[0m\u001b[0mtau\u001b[0m\u001b[0;34m)\u001b[0m\u001b[0;34m\u001b[0m\u001b[0;34m\u001b[0m\u001b[0m\n\u001b[0m\u001b[1;32m      7\u001b[0m         \u001b[0mY_test\u001b[0m\u001b[0;34m.\u001b[0m\u001b[0mappend\u001b[0m\u001b[0;34m(\u001b[0m\u001b[0mpred\u001b[0m\u001b[0;34m[\u001b[0m\u001b[0;36m0\u001b[0m\u001b[0;34m]\u001b[0m\u001b[0;34m[\u001b[0m\u001b[0;36m0\u001b[0m\u001b[0;34m]\u001b[0m\u001b[0;34m)\u001b[0m\u001b[0;34m\u001b[0m\u001b[0;34m\u001b[0m\u001b[0m\n\u001b[1;32m      8\u001b[0m \u001b[0;34m\u001b[0m\u001b[0m\n",
      "\u001b[0;31mNameError\u001b[0m: name 'X' is not defined"
     ]
    }
   ],
   "source": [
    "taus = [0.1,0.5,1,5,10]\n",
    "for t in taus:\n",
    "    plotPrediction(t)"
   ]
  },
  {
   "cell_type": "code",
   "execution_count": null,
   "id": "3944cd64",
   "metadata": {},
   "outputs": [],
   "source": []
  }
 ],
 "metadata": {
  "kernelspec": {
   "display_name": "Python 3 (ipykernel)",
   "language": "python",
   "name": "python3"
  },
  "language_info": {
   "codemirror_mode": {
    "name": "ipython",
    "version": 3
   },
   "file_extension": ".py",
   "mimetype": "text/x-python",
   "name": "python",
   "nbconvert_exporter": "python",
   "pygments_lexer": "ipython3",
   "version": "3.9.7"
  }
 },
 "nbformat": 4,
 "nbformat_minor": 5
}
