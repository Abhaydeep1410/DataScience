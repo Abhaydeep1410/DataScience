{
 "cells": [
  {
   "cell_type": "code",
   "execution_count": 1,
   "id": "660cac23",
   "metadata": {},
   "outputs": [],
   "source": [
    "import numpy as np\n",
    "import pandas as pd\n",
    "import matplotlib.pyplot as plt\n",
    "from sklearn.datasets import make_regression"
   ]
  },
  {
   "cell_type": "code",
   "execution_count": 2,
   "id": "be49680d",
   "metadata": {},
   "outputs": [],
   "source": [
    "x,y=make_regression(n_samples=400,n_features=1,n_informative=1,noise=1.8,random_state=11)"
   ]
  },
  {
   "cell_type": "code",
   "execution_count": 6,
   "id": "2bed6e71",
   "metadata": {},
   "outputs": [],
   "source": [
    "y=y.reshape((-1,1))"
   ]
  },
  {
   "cell_type": "code",
   "execution_count": 7,
   "id": "056d679b",
   "metadata": {},
   "outputs": [
    {
     "data": {
      "text/plain": [
       "((400, 1), (400, 1))"
      ]
     },
     "execution_count": 7,
     "metadata": {},
     "output_type": "execute_result"
    }
   ],
   "source": [
    "x.shape, y.shape"
   ]
  },
  {
   "cell_type": "code",
   "execution_count": 9,
   "id": "2c438d1d",
   "metadata": {},
   "outputs": [
    {
     "data": {
      "text/plain": [
       "Text(0.5, 1.0, 'normalized data')"
      ]
     },
     "execution_count": 9,
     "metadata": {},
     "output_type": "execute_result"
    },
    {
     "data": {
      "image/png": "[encoded data removed]",
      "text/plain": [
       "<Figure size 432x288 with 1 Axes>"
      ]
     },
     "metadata": {
      "needs_background": "light"
     },
     "output_type": "display_data"
    }
   ],
   "source": [
    "# normalize\n",
    "x=(x-x.mean())/x.std()\n",
    "\n",
    "\n",
    "plt.figure()\n",
    "plt.scatter(x,y)\n",
    "plt.title(\"normalized data\")"
   ]
  },
  {
   "cell_type": "code",
   "execution_count": null,
   "id": "0199020f",
   "metadata": {},
   "outputs": [],
   "source": []
  },
  {
   "cell_type": "code",
   "execution_count": 13,
   "id": "4bc09cac",
   "metadata": {},
   "outputs": [
    {
     "name": "stdout",
     "output_type": "stream",
     "text": [
      "(400, 2)\n",
      "[[-0.86881353  1.        ]\n",
      " [ 1.04796658  1.        ]\n",
      " [-0.2019676   1.        ]\n",
      " [-0.34017061  1.        ]\n",
      " [ 0.13317349  1.        ]]\n"
     ]
    }
   ],
   "source": [
    "# since theta has two dimensions but x has one therefore insert a dummy coloumn of 1\n",
    "ones=np.ones((x.shape[0],1))\n",
    "x_=np.hstack((x,ones))\n",
    "print(x_.shape)\n",
    "print(x_[:5])"
   ]
  },
  {
   "cell_type": "code",
   "execution_count": null,
   "id": "17d9f9d9",
   "metadata": {},
   "outputs": [],
   "source": []
  },
  {
   "cell_type": "code",
   "execution_count": 25,
   "id": "75199c58",
   "metadata": {},
   "outputs": [],
   "source": [
    "def predict(x,theta):\n",
    "    return np.dot(x,theta)\n",
    "\n",
    "def get_thetaClosedForm(x,y):\n",
    "    # y should be matrix\n",
    "    y=np.mat(y)\n",
    "    # using formulae\n",
    "    firstpart=np.dot(x.T,x)\n",
    "    secondpart=np.dot(x.T,y)\n",
    "    theta=np.linalg.pinv(firstpart)*secondpart\n",
    "    return theta"
   ]
  },
  {
   "cell_type": "code",
   "execution_count": 26,
   "id": "92e18a47",
   "metadata": {},
   "outputs": [],
   "source": [
    "theta=get_thetaClosedForm(x_,y)"
   ]
  },
  {
   "cell_type": "code",
   "execution_count": 27,
   "id": "6981be6c",
   "metadata": {},
   "outputs": [
    {
     "data": {
      "text/plain": [
       "matrix([[19.45877082],\n",
       "        [-0.29187892]])"
      ]
     },
     "execution_count": 27,
     "metadata": {},
     "output_type": "execute_result"
    }
   ],
   "source": [
    "theta"
   ]
  },
  {
   "cell_type": "code",
   "execution_count": 29,
   "id": "cd8044c1",
   "metadata": {},
   "outputs": [
    {
     "data": {
      "text/plain": [
       "Text(0.5, 1.0, 'normalized data')"
      ]
     },
     "execution_count": 29,
     "metadata": {},
     "output_type": "execute_result"
    },
    {
     "data": {
      "image/png": "[encoded data removed]",
      "text/plain": [
       "<Figure size 432x288 with 1 Axes>"
      ]
     },
     "metadata": {
      "needs_background": "light"
     },
     "output_type": "display_data"
    }
   ],
   "source": [
    "plt.figure()\n",
    "plt.scatter(x,y)\n",
    "plt.plot(x,predict(x_,theta),color=\"red\",label=\"prediction\")\n",
    "plt.legend()\n",
    "plt.title(\"normalized data\")"
   ]
  },
  {
   "cell_type": "code",
   "execution_count": null,
   "id": "52e2ae91",
   "metadata": {},
   "outputs": [],
   "source": []
  },
  {
   "cell_type": "code",
   "execution_count": null,
   "id": "80321755",
   "metadata": {},
   "outputs": [],
   "source": []
  }
 ],
 "metadata": {
  "kernelspec": {
   "display_name": "Python 3 (ipykernel)",
   "language": "python",
   "name": "python3"
  },
  "language_info": {
   "codemirror_mode": {
    "name": "ipython",
    "version": 3
   },
   "file_extension": ".py",
   "mimetype": "text/x-python",
   "name": "python",
   "nbconvert_exporter": "python",
   "pygments_lexer": "ipython3",
   "version": "3.9.7"
  }
 },
 "nbformat": 4,
 "nbformat_minor": 5
}
