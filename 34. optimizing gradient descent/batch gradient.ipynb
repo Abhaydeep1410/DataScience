{
 "cells": [
  {
   "cell_type": "code",
   "execution_count": 6,
   "id": "b8b46800",
   "metadata": {},
   "outputs": [],
   "source": [
    "import pandas as pd\n",
    "import matplotlib.pyplot as plt\n",
    "import numpy as np"
   ]
  },
  {
   "cell_type": "code",
   "execution_count": null,
   "id": "d0267545",
   "metadata": {},
   "outputs": [],
   "source": []
  },
  {
   "cell_type": "code",
   "execution_count": 7,
   "id": "3b161eaa",
   "metadata": {},
   "outputs": [],
   "source": [
    "X=pd.read_csv('/Users/abhaydeep/Documents/DataScience/DataScience/31.Linear regression/Training Data/Linear_X_Train.csv')\n",
    "Y=pd.read_csv('/Users/abhaydeep/Documents/DataScience/DataScience/31.Linear regression/Training Data/Linear_Y_Train.csv')"
   ]
  },
  {
   "cell_type": "code",
   "execution_count": 8,
   "id": "6ea1b7b9",
   "metadata": {},
   "outputs": [],
   "source": [
    "\n",
    "# converting to numpy array \n",
    "x=X.values\n",
    "y=Y.values"
   ]
  },
  {
   "cell_type": "code",
   "execution_count": 41,
   "id": "9f8a9589",
   "metadata": {},
   "outputs": [
    {
     "data": {
      "text/plain": [
       "(3750, 1)"
      ]
     },
     "execution_count": 41,
     "metadata": {},
     "output_type": "execute_result"
    }
   ],
   "source": []
  },
  {
   "cell_type": "code",
   "execution_count": 9,
   "id": "45ec13a5",
   "metadata": {},
   "outputs": [],
   "source": [
    "# for normalization  \n",
    "u=x.mean()\n",
    "std=x.std()\n",
    "x=(x-u)/std"
   ]
  },
  {
   "cell_type": "code",
   "execution_count": 10,
   "id": "79feca9c",
   "metadata": {
    "scrolled": true
   },
   "outputs": [
    {
     "data": {
      "image/png": "[encoded data removed]",
      "text/plain": [
       "<Figure size 432x288 with 1 Axes>"
      ]
     },
     "metadata": {
      "needs_background": "light"
     },
     "output_type": "display_data"
    }
   ],
   "source": [
    "plt.title('harword vs performance')\n",
    "plt.style.use('seaborn')\n",
    "plt.xlabel('hardword')\n",
    "plt.ylabel('performance')\n",
    "plt.scatter(x,y)\n",
    "plt.show()"
   ]
  },
  {
   "cell_type": "code",
   "execution_count": null,
   "id": "88bc5792",
   "metadata": {},
   "outputs": [],
   "source": []
  },
  {
   "cell_type": "code",
   "execution_count": null,
   "id": "66cf3a71",
   "metadata": {},
   "outputs": [],
   "source": []
  },
  {
   "cell_type": "code",
   "execution_count": null,
   "id": "d194abd2",
   "metadata": {},
   "outputs": [],
   "source": []
  },
  {
   "cell_type": "markdown",
   "id": "f8cdf73c",
   "metadata": {},
   "source": [
    "### linear Regression"
   ]
  },
  {
   "cell_type": "code",
   "execution_count": 15,
   "id": "da8ea248",
   "metadata": {},
   "outputs": [],
   "source": [
    "def hypothesis(X,theta):\n",
    "    y_=theta[0]+theta[1]*X;\n",
    "    return y_\n",
    "\n",
    "\n",
    "def gradient(X,Y,theta):\n",
    "    \n",
    "    m=X.shape[0]\n",
    "    grad=np.zeros((2,))\n",
    "    for i in range(m):\n",
    "        x=X[i]\n",
    "        y=Y[i]\n",
    "        y_=hypothesis(x,theta)\n",
    "        \n",
    "        \n",
    "        grad[0]+=(y_-y)\n",
    "        grad[1]+=(y_-y)*x\n",
    "    return grad/m\n",
    "    \n",
    "def error(X,Y,theta):    \n",
    "    totalerror=0.0\n",
    "    m=X.shape[0]\n",
    "    for i in range(X.shape[0]):\n",
    "        y_=hypothesis(X[i],theta)\n",
    "        totalerror+= (Y[i]-y_)**2\n",
    "    return totalerror/m\n",
    "    \n",
    "    \n",
    "    \n",
    "def gradientDescent(X,Y,learningRate=0.01,maxipos=300):\n",
    "    theta=np.zeros((2,))\n",
    "    error_list=[]\n",
    "    theta_list=[]\n",
    "    for i in range (maxipos):\n",
    "        grad=gradient(X,Y,theta)\n",
    "        e=error(X,Y,theta)\n",
    "        error_list.append(e)\n",
    "        theta_list.append((theta[0],theta[1]))\n",
    "        theta[0]=theta[0]-learningRate*grad[0]\n",
    "        theta[1]=theta[1]-learningRate*grad[1]\n",
    "        \n",
    "        \n",
    "    return error_list,theta,theta_list\n",
    "\n",
    "\n",
    "    \n",
    "        \n",
    "    "
   ]
  },
  {
   "cell_type": "code",
   "execution_count": 16,
   "id": "2c77bb46",
   "metadata": {},
   "outputs": [],
   "source": [
    "error_list,theta,theta_list=gradientDescent(x,y)"
   ]
  },
  {
   "cell_type": "code",
   "execution_count": 17,
   "id": "65f8b927",
   "metadata": {},
   "outputs": [
    {
     "data": {
      "text/plain": [
       "[<matplotlib.lines.Line2D at 0x7f83ba9247c0>]"
      ]
     },
     "execution_count": 17,
     "metadata": {},
     "output_type": "execute_result"
    },
    {
     "data": {
      "image/png": "[encoded data removed]",
      "text/plain": [
       "<Figure size 576x396 with 1 Axes>"
      ]
     },
     "metadata": {},
     "output_type": "display_data"
    }
   ],
   "source": [
    "plt.plot(error_list)"
   ]
  },
  {
   "cell_type": "code",
   "execution_count": null,
   "id": "a359db93",
   "metadata": {},
   "outputs": [],
   "source": []
  },
  {
   "cell_type": "code",
   "execution_count": null,
   "id": "80742699",
   "metadata": {},
   "outputs": [],
   "source": []
  },
  {
   "cell_type": "markdown",
   "id": "e03ef052",
   "metadata": {},
   "source": [
    "## MINI batch gradient descent algo"
   ]
  },
  {
   "cell_type": "code",
   "execution_count": 44,
   "id": "5293be74",
   "metadata": {},
   "outputs": [],
   "source": [
    "def miniBatch(X,Y,batch_size=100,learningRate=0.1,maxipos=10):\n",
    "    theta=np.zeros((2,))\n",
    "    error_list=[]\n",
    "    theta_list=[]\n",
    "    \n",
    "    ## to shuffle the data \n",
    "    data=np.hstack((X,Y.reshape(-1,1)))\n",
    "    \n",
    "    for i in range (maxipos):\n",
    "            \n",
    "            np.random.shuffle(data)\n",
    "            m=data.shape[0]\n",
    "            totalbacthes=m//batch_size\n",
    "            for i in range(totalbacthes):\n",
    "                batch_data=data[i*batch_size:(i+1)*batch_size,:]\n",
    "                x_batch=batch_data[:,:-1]\n",
    "                y_batch=batch_data[:,-1]\n",
    "                batch_gradient=gradient(x_batch,y_batch,theta)\n",
    "                theta=theta-learningRate*batch_gradient\n",
    "                e=error(x_batch,y_batch,theta)\n",
    "                error_list.append(e)\n",
    "        \n",
    "    return error_list,theta,theta_list\n",
    "\n"
   ]
  },
  {
   "cell_type": "code",
   "execution_count": 45,
   "id": "d4d9d122",
   "metadata": {},
   "outputs": [],
   "source": [
    "error_list,theta,theta_list=miniBatch(x,y)"
   ]
  },
  {
   "cell_type": "code",
   "execution_count": 40,
   "id": "06a78709",
   "metadata": {
    "scrolled": true
   },
   "outputs": [
    {
     "data": {
      "text/plain": [
       "[<matplotlib.lines.Line2D at 0x7f83b91e6220>]"
      ]
     },
     "execution_count": 40,
     "metadata": {},
     "output_type": "execute_result"
    },
    {
     "data": {
      "image/png": "[encoded data removed]",
      "text/plain": [
       "<Figure size 576x396 with 1 Axes>"
      ]
     },
     "metadata": {},
     "output_type": "display_data"
    }
   ],
   "source": [
    "plt.plot(error_list)"
   ]
  },
  {
   "cell_type": "code",
   "execution_count": 37,
   "id": "669b7867",
   "metadata": {},
   "outputs": [
    {
     "data": {
      "text/plain": [
       "array([ 1.14064731, 80.39600499])"
      ]
     },
     "execution_count": 37,
     "metadata": {},
     "output_type": "execute_result"
    }
   ],
   "source": [
    "theta"
   ]
  }
 ],
 "metadata": {
  "kernelspec": {
   "display_name": "Python 3 (ipykernel)",
   "language": "python",
   "name": "python3"
  },
  "language_info": {
   "codemirror_mode": {
    "name": "ipython",
    "version": 3
   },
   "file_extension": ".py",
   "mimetype": "text/x-python",
   "name": "python",
   "nbconvert_exporter": "python",
   "pygments_lexer": "ipython3",
   "version": "3.9.7"
  }
 },
 "nbformat": 4,
 "nbformat_minor": 5
}
